{
 "cells": [
  {
   "cell_type": "code",
   "execution_count": 4,
   "id": "a29fcc91-0ce4-44e6-896a-017692d9b0c2",
   "metadata": {},
   "outputs": [
    {
     "name": "stdout",
     "output_type": "stream",
     "text": [
      "[2 2 2]\n"
     ]
    }
   ],
   "source": [
    "import numpy as np\n",
    " \n",
    "# 创建一个示例数组\n",
    "arr = np.array([[0, 1, 2, 0],\n",
    "               [1, 0, 0, 3],\n",
    "               [4, 0, 5, 0]])\n",
    " \n",
    "# 计算每行非零元素个数\n",
    "non_zero_counts = np.count_nonzero(arr, axis=1)\n",
    " \n",
    "print(non_zero_counts)"
   ]
  },
  {
   "cell_type": "code",
   "execution_count": null,
   "id": "7df96d34-42cf-455f-a085-905bf8a6df04",
   "metadata": {},
   "outputs": [],
   "source": []
  }
 ],
 "metadata": {
  "kernelspec": {
   "display_name": "Python 3 (ipykernel)",
   "language": "python",
   "name": "python3"
  },
  "language_info": {
   "codemirror_mode": {
    "name": "ipython",
    "version": 3
   },
   "file_extension": ".py",
   "mimetype": "text/x-python",
   "name": "python",
   "nbconvert_exporter": "python",
   "pygments_lexer": "ipython3",
   "version": "3.9.12"
  }
 },
 "nbformat": 4,
 "nbformat_minor": 5
}
