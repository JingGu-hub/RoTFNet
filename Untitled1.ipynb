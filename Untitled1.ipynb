{
 "cells": [
  {
   "cell_type": "code",
   "execution_count": 6,
   "id": "d704cb95-f266-4df9-8950-5f0f555eee2c",
   "metadata": {},
   "outputs": [
    {
     "name": "stdout",
     "output_type": "stream",
     "text": [
      "t=tensor([0., 2., 0., 4., 0.])\n"
     ]
    },
    {
     "data": {
      "text/plain": [
       "tensor(1.2000)"
      ]
     },
     "execution_count": 6,
     "metadata": {},
     "output_type": "execute_result"
    }
   ],
   "source": [
    "import torch\n",
    "\n",
    "loss = torch.tensor([1, 2 , 3 , 4 , 5]).float()\n",
    "mask = torch.tensor([0, 1, 0, 1, 0]).float()\n",
    "\n",
    "t = mask*loss\n",
    "print(f't={t}')\n",
    "final_loss = torch.mean(mask*loss)\n",
    "final_loss"
   ]
  },
  {
   "cell_type": "code",
   "execution_count": null,
   "id": "5b7d36bf-67f8-497c-8bde-3f94d1e9e12f",
   "metadata": {},
   "outputs": [],
   "source": []
  }
 ],
 "metadata": {
  "kernelspec": {
   "display_name": "Python 3 (ipykernel)",
   "language": "python",
   "name": "python3"
  },
  "language_info": {
   "codemirror_mode": {
    "name": "ipython",
    "version": 3
   },
   "file_extension": ".py",
   "mimetype": "text/x-python",
   "name": "python",
   "nbconvert_exporter": "python",
   "pygments_lexer": "ipython3",
   "version": "3.9.12"
  }
 },
 "nbformat": 4,
 "nbformat_minor": 5
}
